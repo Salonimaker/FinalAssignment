{
 "cells": [
  {
   "cell_type": "markdown",
   "id": "aef76f51-fcf0-44d3-9b60-78dc2455377b",
   "metadata": {},
   "source": [
    "# Data Science tools and Ecosystem"
   ]
  },
  {
   "cell_type": "markdown",
   "id": "601e51e6-1828-4a7f-a186-c6cde54dacd3",
   "metadata": {},
   "source": [
    "## In this notebook, Data Science Tools and Ecosystems are summarised."
   ]
  },
  {
   "cell_type": "markdown",
   "id": "0fcba559-4ff4-46e0-8ebf-5fde59acfe25",
   "metadata": {},
   "source": [
    "**Objectives:**\n",
    "- List Popular languages for Data Science.\n",
    "- List commonly used libraries in Data Science.\n",
    "- Create a markdown cell with a table.\n",
    "- Examples of evaluating arithmetic expressions in Python."
   ]
  },
  {
   "cell_type": "markdown",
   "id": "3ee26bdf-6a8b-4651-886b-455bd1e61e1e",
   "metadata": {},
   "source": [
    "### Some of the popular languages that Data Scientists use are:"
   ]
  },
  {
   "cell_type": "markdown",
   "id": "e9ad0884-a45f-44ab-80f2-69e1e0a93897",
   "metadata": {
    "jp-MarkdownHeadingCollapsed": true
   },
   "source": [
    "### 1. Python\n",
    "### 2. R\n",
    "### 3. SQL\n",
    "### 4. Julia"
   ]
  },
  {
   "cell_type": "markdown",
   "id": "e59770d3-5437-4778-a71a-89d104f8f2c4",
   "metadata": {},
   "source": [
    "### Some of the commonly used libraries by Data Scientists include:\n",
    "### 1. Scientific Computing libraries in Python\n",
    "#### a) Pandas\n",
    "#### b) NumbPy\n",
    "### 2. Data Visualization libraries in Python\n",
    "#### a) Matplotlib\n",
    "#### b) Seaborn\n",
    "### 3. Machine Learning and Deep Learning libraries in Python\n",
    "#### a) Scikit-learn for Machine learning\n",
    "#### b) Keras for Deep learning\n",
    "### 4. R libraries\n",
    "####  ggplot2 for data visualization in R"
   ]
  },
  {
   "cell_type": "markdown",
   "id": "30897342-c2b0-4afa-bd6c-01a6f3a949f2",
   "metadata": {},
   "source": [
    "## Create a markdown cell with a table of Data Science Tools\n",
    "\n",
    "| Data Science Tools |\n",
    "|--------------------|\n",
    "| Jupyter |\n",
    "| RStudio |\n",
    "| Spyder |"
   ]
  },
  {
   "cell_type": "markdown",
   "id": "e19565e8-dac0-4e73-9925-fc2986ab439f",
   "metadata": {
    "scrolled": true
   },
   "source": [
    "### Below are a few examples of evaluating arithmetic expressions in Python\n",
    "### Run selected cells to execute the below arithmetic expressions or Shift+Enter\n",
    "#### 10+5\n",
    "#### Answer\n",
    "#### 15\n",
    "#### 15*5\n",
    "#### Answer\n",
    "#### 75"
   ]
  },
  {
   "cell_type": "code",
   "execution_count": 6,
   "id": "dbbab8aa-a54b-402b-b731-8fd420eba208",
   "metadata": {},
   "outputs": [
    {
     "data": {
      "text/plain": [
       "17"
      ]
     },
     "execution_count": 6,
     "metadata": {},
     "output_type": "execute_result"
    }
   ],
   "source": [
    "## This is a simple arithmetic expression to multiply then add integers.\n",
    "(3*4)+5"
   ]
  },
  {
   "cell_type": "code",
   "execution_count": 7,
   "id": "4a2f8376-4c58-4d5c-bb4f-342514b1eb74",
   "metadata": {},
   "outputs": [
    {
     "data": {
      "text/plain": [
       "3.3333333333333335"
      ]
     },
     "execution_count": 7,
     "metadata": {},
     "output_type": "execute_result"
    }
   ],
   "source": [
    "## This will convert 200 minutes into hours by dividing by 60.\n",
    "200/60"
   ]
  },
  {
   "cell_type": "markdown",
   "id": "ca2558d4-3306-4a93-905b-17c124b58865",
   "metadata": {},
   "source": [
    "## Author\n",
    "Saloni Sareen"
   ]
  },
  {
   "cell_type": "code",
   "execution_count": null,
   "id": "7885320c-2405-46be-ae5d-721a6b49c189",
   "metadata": {},
   "outputs": [],
   "source": []
  }
 ],
 "metadata": {
  "kernelspec": {
   "display_name": "Python 3 (ipykernel)",
   "language": "python",
   "name": "python3"
  },
  "language_info": {
   "codemirror_mode": {
    "name": "ipython",
    "version": 3
   },
   "file_extension": ".py",
   "mimetype": "text/x-python",
   "name": "python",
   "nbconvert_exporter": "python",
   "pygments_lexer": "ipython3",
   "version": "3.9.19"
  }
 },
 "nbformat": 4,
 "nbformat_minor": 5
}
